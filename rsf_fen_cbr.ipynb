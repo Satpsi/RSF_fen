{
 "cells": [
  {
   "cell_type": "markdown",
   "id": "5fb2acbc-5e26-441b-8e98-7de1a40a6fc2",
   "metadata": {},
   "source": [
    "# Кейс ЦБ РФ"
   ]
  },
  {
   "cell_type": "markdown",
   "id": "3326d5b9-6058-426c-a456-fac8627164bc",
   "metadata": {},
   "source": [
    "## Подключение нужных библиотек"
   ]
  },
  {
   "cell_type": "code",
   "execution_count": 2,
   "id": "05ff86b7-cbaf-4441-a760-e76acc06d8c6",
   "metadata": {},
   "outputs": [],
   "source": [
    "import numpy as np\n",
    "import torch"
   ]
  },
  {
   "cell_type": "markdown",
   "id": "e45ab38c-1212-4a27-90ce-6f57d27f1126",
   "metadata": {},
   "source": [
    "## Проверяем наличие GPU"
   ]
  },
  {
   "cell_type": "code",
   "execution_count": 4,
   "id": "b69be73e-327a-46bb-8514-1b3cd05857bf",
   "metadata": {},
   "outputs": [
    {
     "name": "stdout",
     "output_type": "stream",
     "text": [
      "Используем устройство: cuda\n"
     ]
    }
   ],
   "source": [
    "device = torch.device('cuda' if torch.cuda.is_available() else 'cpu')\n",
    "print('Используем устройство:', device)"
   ]
  },
  {
   "cell_type": "markdown",
   "id": "014289e9-b21d-49b9-9a31-c260f116536f",
   "metadata": {},
   "source": [
    "## Создаем Dataset для дальнейшей работы"
   ]
  },
  {
   "cell_type": "code",
   "execution_count": 5,
   "id": "0e78d1f1-7d55-4656-a158-b0865b3c609d",
   "metadata": {},
   "outputs": [],
   "source": [
    "class CbrDataset(torch.utils.data.Dataset):\n",
    "    def __init__(self, inp_file, out_file):\n",
    "        self.x_data = np.load(inp_file)\n",
    "        self.y_data = np.load(out_file)\n",
    "        \n",
    "    def __len__(self):\n",
    "        return len(self.x_data)\n",
    "        \n",
    "    def __getitem__(self, idx):\n",
    "        inputs = self.x_data[idx]\n",
    "        outputs = self.y_data[idx] \n",
    "        return (inputs, outputs)  "
   ]
  },
  {
   "cell_type": "markdown",
   "id": "c2379bc9-4ef0-481d-93da-5d8d7a42304e",
   "metadata": {},
   "source": [
    "## Создаем нужную нейросеть"
   ]
  },
  {
   "cell_type": "code",
   "execution_count": 7,
   "id": "197e216f-eccc-4f32-a738-0a357ecf7b57",
   "metadata": {},
   "outputs": [],
   "source": [
    "class CbrNet(torch.nn.Module):\n",
    "  def __init__(self):\n",
    "    super(CbrNet, self).__init__()\n",
    "    self.hid1 = torch.nn.Linear(600, 300)  \n",
    "    self.hid2 = torch.nn.Linear(300, 100)\n",
    "    self.oupt = torch.nn.Linear(100, 15)\n",
    "\n",
    "    torch.nn.init.xavier_uniform_(self.hid1.weight) \n",
    "    torch.nn.init.zeros_(self.hid1.bias)\n",
    "    torch.nn.init.xavier_uniform_(self.hid2.weight)\n",
    "    torch.nn.init.zeros_(self.hid2.bias)\n",
    "    torch.nn.init.xavier_uniform_(self.oupt.weight)\n",
    "    torch.nn.init.zeros_(self.oupt.bias)\n",
    "\n",
    "  def forward(self, x):\n",
    "    z = torch.tanh(self.hid1(x)) \n",
    "    z = torch.tanh(self.hid2(z))\n",
    "    z = self.oupt(z)  \n",
    "    return z\n"
   ]
  },
  {
   "cell_type": "markdown",
   "id": "cebdff16-f695-46fa-b375-a3b485fbad75",
   "metadata": {},
   "source": [
    "## Обучение модели"
   ]
  },
  {
   "cell_type": "code",
   "execution_count": 9,
   "id": "3a45fd8c-1fcd-4129-9d3a-52c927b96d87",
   "metadata": {},
   "outputs": [],
   "source": [
    "def train(model, ds, bs, lr, me, le):\n",
    "    train_ldr = torch.utils.data.DataLoader(ds, batch_size=bs, shuffle=True)\n",
    "    loss_func = torch.nn.L1Loss()  \n",
    "    optimizer = torch.optim.Adam(model.parameters(), lr=lr)\n",
    "    for epoch in range(0, me):\n",
    "        epoch_loss = 0.0  # for one full epoch\n",
    "        for (b_idx, batch) in enumerate(train_ldr):\n",
    "            X = batch[0]\n",
    "            y = batch[1]\n",
    "            optimizer.zero_grad()\n",
    "            oupt = model(X)\n",
    "            loss_val = loss_func(oupt, y)  \n",
    "            epoch_loss += loss_val.item()  \n",
    "            loss_val.backward()  \n",
    "            optimizer.step()     \n",
    "\n",
    "        if epoch % le == 0:\n",
    "            print(f\"epoch = {epoch: 4d}  |  loss = {epoch_loss:0.4f}\")\n",
    "            torch.save(model, f\".\\results\\model_{epoch:4d}\")\n",
    "    \n",
    "    #torch.save(model, f\".\\results\\model_final.pt\")\n",
    "        "
   ]
  },
  {
   "cell_type": "markdown",
   "id": "a0e0173f-4307-4248-b7eb-bfe1fb0bf141",
   "metadata": {},
   "source": [
    "## Главная программа"
   ]
  },
  {
   "cell_type": "code",
   "execution_count": null,
   "id": "104d6572-d46d-48c9-ac35-a663a43e439d",
   "metadata": {},
   "outputs": [],
   "source": [
    "# 0. get started\n",
    "print(\"\\nРешение кейса ЦБ России с использованием PyTorch\")\n",
    "np.random.seed(42) \n",
    "torch.manual_seed(42) \n",
    "\n",
    "# 1. Создание объектов Dataset и DataLoader\n",
    "print(\"\\nЗагрузка обучающего Dataset\")\n",
    "train_input_file = f\".data\\y_smp_train.npy\"\n",
    "train_output_file = f\".data\\pars_smp_train.npy\"\n",
    "train_dataset = CbrDataset(train_input_file, train_output_file)\n",
    "trainlloader = torch.utils.data.DataLoader(train_dataset, batch_size=16, shuffle=True) # RSF\n",
    "\n",
    "data_batch, labels_batch = next(iter(trainloader))\n",
    "print(data_batch.size())\n",
    "# out: torch.Size([16, 3, 32, 32])\n",
    "print(labels_batch.size())\n",
    "# out: torch.Size([16])\n",
    "\n",
    "#  test_file = \".\\\\Data\\\\boston_test.txt\"\n",
    "#  test_ds = BostonDataset(test_file)\n",
    "\n",
    "# 2. Создание модели\n",
    "print(\"\\nСоздание 600-(300-100)-15 регрессионной сети\")\n",
    "net = CbrNet().to(device)\n",
    "net.train()\n",
    "\n",
    "# 3. Обучаем модель\n",
    "bs=10 # размер батча\n",
    "lr=0.005 \n",
    "me=5000 # Максимальное количество эпох\n",
    "le=1000 # Точки выдачи отчета\n",
    "\n",
    "print(f\"\\nbatch size = {bs}\", end = \" \")\n",
    "print(\"функция потерь = L1Loss()\", end = \" \")\n",
    "print(\"оптимизатор = Adam\", end = \" \")\n",
    "print(f\"learn rate = {lf}\", end = \" \")\n",
    "print(f\"количество эпох = {me}\")\n",
    "\n",
    "print(\"\\nНачало обучения \")\n",
    "train(net, train_ds, bs, lr, me=500, le=100)\n",
    "print(\"Завершение\")\n",
    "\n",
    "# 4. Точность модели\n",
    "net.eval()\n",
    "acc_train = accuracy(net, train_ds, 0.20)\n",
    "print(f\"\\nAccuracy on train (within 0.20) = {acc_train:%0.4f}\")\n",
    "acc_test = accuracy(net, test_ds, 0.20)\n",
    "print(\"Accuracy on test (within 0.20) = %0.4f \" % acc_test)\n",
    "\n",
    "# 5. Сохранение модели\n",
    "torch.save(model, f\".\\results\\model_final.pt\")\n",
    "\n",
    "# 6. Использование модели\n",
    "  print(\"\\nPredicting normalized (poverty, price) first train\")\n",
    "  print(\"Actual (poverty, price) = (0.0914, 0.2160) \")\n",
    "\n",
    "  x = np.array([0.000273, 0.000, 0.0707, -1, 0.469,\n",
    "    0.6421, 0.789, 0.049671, 0.02, 0.242, 0.178,\n",
    "    0.39690], dtype=np.float32)\n",
    "  x = T.tensor(x, dtype=T.float32)\n",
    "\n",
    "  with T.no_grad():\n",
    "    oupt = net(x)\n",
    "  print(\"Predicted poverty price = %0.4f %0.4f \" % \\\n",
    "    (oupt[0], oupt[1]))\n",
    "\n",
    "  print(\"\\nEnd demo \")\n"
   ]
  },
  {
   "cell_type": "code",
   "execution_count": null,
   "id": "43f05527-03f4-4f8e-b878-7336f0c1c20f",
   "metadata": {},
   "outputs": [
    {
     "name": "stdout",
     "output_type": "stream",
     "text": [
      "Загрузка обучающего Dataset\n"
     ]
    }
   ],
   "source": [
    "# 1. Создание объектов Dataset и DataLoader\n",
    "print(\"Загрузка обучающего Dataset\")\n",
    "train_input_file = f\"./data/y_smp_train.npy\"\n",
    "train_output_file = f\"./data/pars_smp_train.npy\"\n",
    "train_dataset = CbrDataset(train_input_file, train_output_file)\n",
    "trainlloader = torch.utils.data.DataLoader(train_dataset, batch_size=1, shuffle=True) # RSF\n",
    "\n",
    "data_batch, labels_batch = next(iter(trainloader))\n",
    "print(data_batch.size())\n",
    "# out: torch.Size([16, 3, 32, 32])\n",
    "print(labels_batch.size())\n",
    "# out: torch.Size([16])\n"
   ]
  },
  {
   "cell_type": "code",
   "execution_count": null,
   "id": "0f852731-d596-49ba-8001-b8ada21c7cec",
   "metadata": {},
   "outputs": [],
   "source": []
  }
 ],
 "metadata": {
  "kernelspec": {
   "display_name": ".hacks_ai_2023_yfo_env",
   "language": "python",
   "name": ".hacks_ai_2023_yfo_env"
  },
  "language_info": {
   "codemirror_mode": {
    "name": "ipython",
    "version": 3
   },
   "file_extension": ".py",
   "mimetype": "text/x-python",
   "name": "python",
   "nbconvert_exporter": "python",
   "pygments_lexer": "ipython3",
   "version": "3.10.10"
  }
 },
 "nbformat": 4,
 "nbformat_minor": 5
}
