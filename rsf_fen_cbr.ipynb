{
 "cells": [
  {
   "cell_type": "markdown",
   "id": "5fb2acbc-5e26-441b-8e98-7de1a40a6fc2",
   "metadata": {},
   "source": [
    "# Кейс ЦБ РФ"
   ]
  },
  {
   "cell_type": "markdown",
   "id": "3326d5b9-6058-426c-a456-fac8627164bc",
   "metadata": {},
   "source": [
    "## Подключение нужных библиотек"
   ]
  },
  {
   "cell_type": "code",
   "execution_count": 58,
   "id": "05ff86b7-cbaf-4441-a760-e76acc06d8c6",
   "metadata": {},
   "outputs": [],
   "source": [
    "import numpy as np\n",
    "import torch\n",
    "from tqdm import tqdm"
   ]
  },
  {
   "cell_type": "markdown",
   "id": "014289e9-b21d-49b9-9a31-c260f116536f",
   "metadata": {},
   "source": [
    "## Создаем Dataset для дальнейшей работы"
   ]
  },
  {
   "cell_type": "code",
   "execution_count": 45,
   "id": "0e78d1f1-7d55-4656-a158-b0865b3c609d",
   "metadata": {},
   "outputs": [],
   "source": [
    "class CbrDataset(torch.utils.data.Dataset):\n",
    "    def __init__(self, inp_file, out_file):\n",
    "        self.x_data = np.load(inp_file)\n",
    "        self.y_data = np.load(out_file)\n",
    "        \n",
    "    def __len__(self):\n",
    "        return len(self.x_data)\n",
    "        \n",
    "    def __getitem__(self, idx):\n",
    "        inputs = torch.from_numpy(self.x_data[idx])\n",
    "        outputs = torch.from_numpy(self.y_data[idx]) \n",
    "        return (torch.flatten(inputs), torch.flatten(outputs))  "
   ]
  },
  {
   "cell_type": "markdown",
   "id": "c2379bc9-4ef0-481d-93da-5d8d7a42304e",
   "metadata": {},
   "source": [
    "## Создаем нужную нейросеть"
   ]
  },
  {
   "cell_type": "code",
   "execution_count": 47,
   "id": "197e216f-eccc-4f32-a738-0a357ecf7b57",
   "metadata": {},
   "outputs": [],
   "source": [
    "class CbrNet(torch.nn.Module):\n",
    "  def __init__(self):\n",
    "    super(CbrNet, self).__init__()\n",
    "    self.hid1 = torch.nn.Linear(600, 300)  \n",
    "    self.hid2 = torch.nn.Linear(300, 100)\n",
    "    self.oupt = torch.nn.Linear(100, 15)\n",
    "\n",
    "    torch.nn.init.xavier_uniform_(self.hid1.weight) \n",
    "    torch.nn.init.zeros_(self.hid1.bias)\n",
    "    torch.nn.init.xavier_uniform_(self.hid2.weight)\n",
    "    torch.nn.init.zeros_(self.hid2.bias)\n",
    "    torch.nn.init.xavier_uniform_(self.oupt.weight)\n",
    "    torch.nn.init.zeros_(self.oupt.bias)\n",
    "\n",
    "  def forward(self, x):\n",
    "    z = torch.tanh(self.hid1(x)) \n",
    "    z = torch.tanh(self.hid2(z))\n",
    "    z = self.oupt(z)  \n",
    "    return z\n"
   ]
  },
  {
   "cell_type": "markdown",
   "id": "cebdff16-f695-46fa-b375-a3b485fbad75",
   "metadata": {},
   "source": [
    "## Обучение модели"
   ]
  },
  {
   "cell_type": "code",
   "execution_count": 59,
   "id": "3a45fd8c-1fcd-4129-9d3a-52c927b96d87",
   "metadata": {},
   "outputs": [],
   "source": [
    "def train(model, ds, bs, lr, me, le):\n",
    "    train_ldr = torch.utils.data.DataLoader(ds, batch_size=bs, shuffle=True)\n",
    "    loss_func = torch.nn.L1Loss()  \n",
    "    optimizer = torch.optim.Adam(model.parameters(), lr=lr)\n",
    "    for epoch in tqdm(range(0, me)): # RSF\n",
    "        epoch_loss = 0.0  \n",
    "        for (b_idx, batch) in enumerate(train_ldr):\n",
    "            X = batch[0]\n",
    "            X = X.to(torch.float32)\n",
    "            X = X.to(device) # RSF\n",
    "            y = batch[1]\n",
    "            y = y.to(torch.float32)\n",
    "            y = y.to(device) # RSF\n",
    "            optimizer.zero_grad()\n",
    "            oupt = model(X)\n",
    "            loss_val = loss_func(oupt, y)  \n",
    "            epoch_loss += loss_val.item()  \n",
    "            loss_val.backward()  \n",
    "            optimizer.step()     \n",
    "\n",
    "        if epoch % le == 0:\n",
    "            print(f\"'эпоха = {epoch: 04d}  |  loss = {epoch_loss:0.4f}\")\n",
    "            torch.save(model, f\"./results/model_{epoch:04d}\")\n",
    "    \n",
    "    torch.save(model, f\"./results/model_final.pt\")\n",
    "        "
   ]
  },
  {
   "cell_type": "markdown",
   "id": "a0e0173f-4307-4248-b7eb-bfe1fb0bf141",
   "metadata": {},
   "source": [
    "## Главная программа"
   ]
  },
  {
   "cell_type": "code",
   "execution_count": 49,
   "id": "a2458708-f4ce-4773-990a-8b597d4e75eb",
   "metadata": {},
   "outputs": [
    {
     "name": "stdout",
     "output_type": "stream",
     "text": [
      "\n",
      "Решение кейса ЦБ России с использованием PyTorch\n",
      "Используем устройство: cuda\n"
     ]
    }
   ],
   "source": [
    "# 0. Начало\n",
    "print(\"\\nРешение кейса ЦБ России с использованием PyTorch\")\n",
    "np.random.seed(42) \n",
    "torch.manual_seed(42) \n",
    "\n",
    "# Проверяем наличие GPU\n",
    "device = torch.device('cuda' if torch.cuda.is_available() else 'cpu')\n",
    "print('Используем устройство:', device)"
   ]
  },
  {
   "cell_type": "code",
   "execution_count": 50,
   "id": "5cc40f62-c935-4f01-bca0-eb93d566299f",
   "metadata": {},
   "outputs": [
    {
     "name": "stdout",
     "output_type": "stream",
     "text": [
      "\n",
      "Загрузка обучающего Dataset\n"
     ]
    }
   ],
   "source": [
    "# 1. Создание объектов Dataset и DataLoader\n",
    "print(\"\\nЗагрузка обучающего Dataset\")\n",
    "train_input_file = f\"./data/y_smp_train.npy\"\n",
    "train_output_file = f\"./data/pars_smp_train.npy\"\n",
    "train_dataset = CbrDataset(train_input_file, train_output_file)\n",
    "trainloader = torch.utils.data.DataLoader(train_dataset, batch_size=16, shuffle=True) # RSF"
   ]
  },
  {
   "cell_type": "code",
   "execution_count": 51,
   "id": "1f6984a9-b4f3-4136-9c7d-9a7bc84d79d0",
   "metadata": {},
   "outputs": [
    {
     "name": "stdout",
     "output_type": "stream",
     "text": [
      "torch.Size([16, 600])\n",
      "torch.Size([16, 15])\n"
     ]
    }
   ],
   "source": [
    "data_batch, labels_batch = next(iter(trainloader))\n",
    "print(data_batch.size())\n",
    "# out: torch.Size([16, 3, 32, 32])\n",
    "print(labels_batch.size())\n",
    "# out: torch.Size([16])\n",
    "\n",
    "#  test_file = \".\\\\Data\\\\boston_test.txt\"\n",
    "#  test_ds = BostonDataset(test_file)"
   ]
  },
  {
   "cell_type": "code",
   "execution_count": 52,
   "id": "3f82cfd8-44d9-4c61-877d-b680a357c50d",
   "metadata": {},
   "outputs": [
    {
     "name": "stdout",
     "output_type": "stream",
     "text": [
      "\n",
      "Создание 600-(300-100)-15 регрессионной нейросети\n"
     ]
    },
    {
     "data": {
      "text/plain": [
       "CbrNet(\n",
       "  (hid1): Linear(in_features=600, out_features=300, bias=True)\n",
       "  (hid2): Linear(in_features=300, out_features=100, bias=True)\n",
       "  (oupt): Linear(in_features=100, out_features=15, bias=True)\n",
       ")"
      ]
     },
     "execution_count": 52,
     "metadata": {},
     "output_type": "execute_result"
    }
   ],
   "source": [
    "# 2. Создание модели\n",
    "print(\"\\nСоздание 600-(300-100)-15 регрессионной нейросети\")\n",
    "net = CbrNet().to(device)\n",
    "net.train()"
   ]
  },
  {
   "cell_type": "code",
   "execution_count": 60,
   "id": "bc465146-57f9-4565-8376-50acb88ae727",
   "metadata": {},
   "outputs": [
    {
     "name": "stdout",
     "output_type": "stream",
     "text": [
      "\n",
      "batch size = 10 функция потерь = L1Loss() оптимизатор = Adam learn rate = 0.005 количество эпох = 50\n",
      "\n",
      "Начало обучения \n"
     ]
    },
    {
     "name": "stderr",
     "output_type": "stream",
     "text": [
      "  0%|                                                                                           | 0/50 [00:00<?, ?it/s]"
     ]
    },
    {
     "name": "stdout",
     "output_type": "stream",
     "text": [
      "epoch =    0  |  loss = 21416.6048\n"
     ]
    },
    {
     "name": "stderr",
     "output_type": "stream",
     "text": [
      " 20%|███████████████▊                                                               | 10/50 [49:51<3:17:44, 296.61s/it]"
     ]
    },
    {
     "name": "stdout",
     "output_type": "stream",
     "text": [
      "epoch =   10  |  loss = 21310.0089\n"
     ]
    },
    {
     "name": "stderr",
     "output_type": "stream",
     "text": [
      " 40%|██████████████████████████████▊                                              | 20/50 [1:40:46<2:30:44, 301.50s/it]"
     ]
    },
    {
     "name": "stdout",
     "output_type": "stream",
     "text": [
      "epoch =   20  |  loss = 21290.5060\n"
     ]
    },
    {
     "name": "stderr",
     "output_type": "stream",
     "text": [
      " 60%|██████████████████████████████████████████████▏                              | 30/50 [2:32:05<1:41:16, 303.81s/it]"
     ]
    },
    {
     "name": "stdout",
     "output_type": "stream",
     "text": [
      "epoch =   30  |  loss = 21260.3964\n"
     ]
    },
    {
     "name": "stderr",
     "output_type": "stream",
     "text": [
      " 80%|███████████████████████████████████████████████████████████████▏               | 40/50 [3:21:28<49:21, 296.18s/it]"
     ]
    },
    {
     "name": "stdout",
     "output_type": "stream",
     "text": [
      "epoch =   40  |  loss = 21136.3213\n"
     ]
    },
    {
     "name": "stderr",
     "output_type": "stream",
     "text": [
      "100%|███████████████████████████████████████████████████████████████████████████████| 50/50 [4:11:07<00:00, 301.36s/it]\n"
     ]
    },
    {
     "name": "stdout",
     "output_type": "stream",
     "text": [
      "Завершение\n"
     ]
    }
   ],
   "source": [
    "# 3. Обучаем модель\n",
    "bs=10 # размер батча\n",
    "lr=0.005 \n",
    "me=50 # Максимальное количество эпох\n",
    "le=10 # Точки выдачи отчета\n",
    "\n",
    "print(f\"\\nbatch size = {bs}\", end = \" \")\n",
    "print(\"функция потерь = L1Loss()\", end = \" \")\n",
    "print(\"оптимизатор = Adam\", end = \" \")\n",
    "print(f\"learn rate = {lr}\", end = \" \")\n",
    "print(f\"количество эпох = {me}\")\n",
    "\n",
    "print(\"\\nНачало обучения \")\n",
    "train(net, train_dataset, bs, lr, me=50, le=10)\n",
    "print(\"Завершение\")"
   ]
  },
  {
   "cell_type": "code",
   "execution_count": null,
   "id": "104d6572-d46d-48c9-ac35-a663a43e439d",
   "metadata": {},
   "outputs": [],
   "source": [
    "# 4. Точность модели\n",
    "net.eval()\n",
    "acc_train = accuracy(net, train_ds, 0.20)\n",
    "print(f\"\\nAccuracy on train (within 0.20) = {acc_train:%0.4f}\")\n",
    "acc_test = accuracy(net, test_ds, 0.20)\n",
    "print(\"Accuracy on test (within 0.20) = %0.4f \" % acc_test)\n",
    "\n",
    "# 5. Сохранение модели\n",
    "torch.save(model, f\".\\results\\model_final.pt\")\n",
    "\n",
    "# 6. Использование модели\n",
    "  print(\"\\nPredicting normalized (poverty, price) first train\")\n",
    "  print(\"Actual (poverty, price) = (0.0914, 0.2160) \")\n",
    "\n",
    "  x = np.array([0.000273, 0.000, 0.0707, -1, 0.469,\n",
    "    0.6421, 0.789, 0.049671, 0.02, 0.242, 0.178,\n",
    "    0.39690], dtype=np.float32)\n",
    "  x = T.tensor(x, dtype=T.float32)\n",
    "\n",
    "  with T.no_grad():\n",
    "    oupt = net(x)\n",
    "  print(\"Predicted poverty price = %0.4f %0.4f \" % \\\n",
    "    (oupt[0], oupt[1]))\n",
    "\n",
    "  print(\"\\nEnd demo \")\n"
   ]
  },
  {
   "cell_type": "code",
   "execution_count": 19,
   "id": "43f05527-03f4-4f8e-b878-7336f0c1c20f",
   "metadata": {},
   "outputs": [
    {
     "name": "stdout",
     "output_type": "stream",
     "text": [
      "Загрузка обучающего Dataset\n"
     ]
    }
   ],
   "source": [
    "# 1. Создание объектов Dataset и DataLoader\n",
    "print(\"Загрузка обучающего Dataset\")\n",
    "train_input_file = f\"./data/y_smp_train.npy\"\n",
    "train_output_file = f\"./data/pars_smp_train.npy\"\n",
    "train_dataset = CbrDataset(train_input_file, train_output_file)"
   ]
  },
  {
   "cell_type": "code",
   "execution_count": 20,
   "id": "5c42bf8c-e135-4475-bd47-9d07ec422ac9",
   "metadata": {},
   "outputs": [
    {
     "name": "stdout",
     "output_type": "stream",
     "text": [
      "torch.Size([1, 600])\n",
      "torch.Size([1, 15])\n"
     ]
    }
   ],
   "source": [
    "trainloader = torch.utils.data.DataLoader(train_dataset, batch_size=1, shuffle=True) # RSF\n",
    "\n",
    "data_batch, labels_batch = next(iter(trainloader))\n",
    "print(data_batch.size())\n",
    "# out: torch.Size([16, 3, 32, 32])\n",
    "print(labels_batch.size())\n",
    "# out: torch.Size([16])"
   ]
  },
  {
   "cell_type": "code",
   "execution_count": 21,
   "id": "0f852731-d596-49ba-8001-b8ada21c7cec",
   "metadata": {},
   "outputs": [
    {
     "data": {
      "text/plain": [
       "tensor([[-2.8332e-01,  4.7977e-01,  9.7841e-01,  7.0201e-01, -2.0094e-01,\n",
       "          7.7660e-01,  1.2025e+00,  1.1255e+00,  1.3197e+00,  1.7523e-01,\n",
       "          6.7688e-01,  1.2769e+00, -7.1684e-01,  5.0243e-01,  1.0748e+00,\n",
       "          8.7993e-01,  1.7653e-01,  9.0398e-01,  3.7329e-01,  1.0904e+00,\n",
       "          1.2568e+00, -1.1819e-01,  1.1853e-01,  8.3293e-01,  2.6479e-02,\n",
       "          3.6586e-01,  7.9852e-01,  4.6848e-01, -1.3531e-01,  5.2652e-01,\n",
       "          1.9251e-01,  1.1531e+00,  1.0780e+00, -2.8808e-01, -1.3341e-01,\n",
       "          7.3784e-01, -2.9369e-01,  4.6119e-01,  7.7576e-01,  5.7129e-01,\n",
       "         -8.7354e-02,  5.7750e-01,  3.8966e-01,  9.6757e-01,  1.0032e+00,\n",
       "          3.1628e-01,  7.1965e-02,  7.0602e-01,  3.4976e-02,  7.0219e-01,\n",
       "          8.0395e-01,  3.7736e-01, -2.6977e-01,  4.6718e-01,  5.0266e-01,\n",
       "          4.6724e-01,  7.1826e-01,  1.5121e+00,  2.6587e-01,  7.1151e-01,\n",
       "          5.4766e-02,  1.1167e+00,  1.2594e+00, -1.2524e-01, -2.4454e-01,\n",
       "          5.8905e-01, -4.5405e-02,  8.6397e-01,  8.6670e-01,  6.2584e-01,\n",
       "         -1.8604e-01,  5.7751e-01,  4.6824e-01,  1.1131e+00,  1.2105e+00,\n",
       "         -3.2894e-01, -4.1572e-01,  5.8395e-01, -3.6494e-01,  4.2441e-01,\n",
       "          7.4835e-01,  7.3459e-01, -1.3161e-01,  5.5286e-01,  2.2746e-01,\n",
       "          1.0724e+00,  1.1439e+00,  1.0337e+00,  2.9512e-01,  1.0268e+00,\n",
       "         -4.6065e-01,  1.4173e+00,  1.5310e+00,  4.3455e-01,  6.8526e-02,\n",
       "          9.8549e-01, -3.1632e-01,  1.0929e+00,  1.1548e+00,  6.5650e-01,\n",
       "          6.9073e-02,  9.0190e-01, -2.9407e-01,  6.4748e-01,  1.0066e+00,\n",
       "          5.1787e-01, -5.9518e-02,  6.8086e-01,  4.2539e-01,  8.4792e-01,\n",
       "          9.4856e-01, -2.1385e-01, -6.0820e-01,  3.8484e-01,  1.3530e+00,\n",
       "          3.6161e-01,  6.5763e-01,  1.5923e+00,  1.7929e-01,  6.9351e-01,\n",
       "         -2.8467e-01,  9.5733e-01,  9.5007e-01,  3.1655e-01, -6.5167e-02,\n",
       "          7.2039e-01,  2.9328e-01,  4.6353e-01,  8.2584e-01,  8.6189e-01,\n",
       "          3.8513e-01,  9.5190e-01,  4.3881e-01,  6.0185e-01,  9.7326e-01,\n",
       "          2.5194e-01,  1.0576e-01,  7.4169e-01,  4.8227e-01,  7.9140e-01,\n",
       "          9.3527e-01,  4.1594e-01,  2.2694e-01,  7.7958e-01,  7.9775e-01,\n",
       "          1.0707e+00,  1.1784e+00,  1.0578e+00,  8.3144e-01,  1.2504e+00,\n",
       "         -4.6971e-01,  1.0356e+00,  1.3539e+00,  8.5202e-01,  6.8189e-01,\n",
       "          1.3727e+00, -2.5568e-01,  9.8512e-01,  1.3160e+00,  6.4992e-01,\n",
       "          2.9629e-01,  9.7460e-01, -1.8576e-01,  1.0198e+00,  1.1494e+00,\n",
       "          4.3815e-01,  7.2487e-01,  1.1806e+00, -2.5023e-01,  8.1037e-01,\n",
       "          1.1563e+00,  6.3100e-01,  5.2138e-01,  1.0753e+00,  6.7113e-01,\n",
       "          9.2741e-01,  1.2382e+00,  4.7093e-01,  1.2638e+00,  1.4217e+00,\n",
       "         -1.0653e-01,  1.1972e+00,  1.3894e+00,  6.3115e-01,  1.3873e+00,\n",
       "          1.6919e+00, -1.3228e-01,  1.1318e+00,  1.6539e+00,  2.4499e-02,\n",
       "          8.2352e-01,  1.4317e+00,  1.0134e+00,  1.1349e+00,  1.5426e+00,\n",
       "          2.2755e-01,  1.0820e+00,  1.5947e+00,  3.5826e-01,  7.8086e-01,\n",
       "          1.4150e+00,  4.1012e-01,  1.3556e+00,  1.6775e+00, -9.2572e-01,\n",
       "          9.7643e-01,  1.4545e+00,  1.1820e+00,  5.9570e-01,  1.3442e+00,\n",
       "          6.3252e-01,  1.5692e+00,  1.7964e+00, -2.2294e-01,  4.9454e-01,\n",
       "          1.3412e+00, -1.0233e-01,  8.4848e-01,  1.2903e+00,  1.1630e+00,\n",
       "          5.8832e-01,  1.2464e+00, -8.8257e-01,  1.0068e+00,  1.2628e+00,\n",
       "          2.1289e-01,  2.3978e-01,  9.5622e-01, -7.8074e-01,  8.3356e-01,\n",
       "          1.0613e+00,  1.2361e+00, -1.5725e-01,  8.0844e-01,  5.2870e-01,\n",
       "          1.6221e+00,  1.4214e+00,  7.6263e-01, -5.6201e-02,  1.0108e+00,\n",
       "         -9.2952e-01,  1.6294e+00,  1.5722e+00,  1.2998e+00, -2.7548e-01,\n",
       "          8.5845e-01, -1.3114e+00,  1.1242e+00,  1.1245e+00,  1.9755e+00,\n",
       "         -1.6461e-01,  7.8806e-01, -9.4769e-01,  1.2681e+00,  1.2270e+00,\n",
       "          7.5241e-01, -4.4602e-01,  7.1381e-01, -2.7162e-01,  1.3212e+00,\n",
       "          1.2455e+00,  5.5700e-01, -3.5027e-01,  6.1736e-01, -3.9281e-01,\n",
       "          1.2920e+00,  1.1323e+00,  2.9736e-01, -6.3534e-01,  4.5157e-01,\n",
       "          3.4592e-01,  1.3626e+00,  1.1592e+00,  5.4663e-01,  6.3975e-02,\n",
       "          9.0439e-01, -1.5249e-01,  1.2229e+00,  1.3609e+00,  6.2411e-01,\n",
       "          1.2237e-01,  9.5582e-01, -6.5351e-01,  9.2790e-01,  1.1058e+00,\n",
       "          1.8428e+00,  1.0229e-04,  8.4831e-01, -8.7848e-01,  1.6272e+00,\n",
       "          1.4184e+00,  1.2462e+00, -1.6001e-01,  9.8587e-01,  3.7438e-01,\n",
       "          1.6183e+00,  1.5906e+00,  1.8376e+00,  4.6000e-01,  1.4464e+00,\n",
       "         -1.4364e-01,  2.8756e+00,  2.3514e+00, -2.3892e-01,  6.1787e-01,\n",
       "          1.6206e+00, -4.4290e-01,  1.9943e+00,  2.0588e+00,  7.5464e-01,\n",
       "          1.9337e-01,  1.4559e+00, -3.0660e-01,  1.4418e+00,  1.6259e+00,\n",
       "          6.7715e-01,  4.4044e-01,  1.2621e+00, -1.2634e-01,  1.8543e+00,\n",
       "          1.7627e+00,  6.1835e-01,  5.3074e-01,  1.3882e+00, -4.8652e-01,\n",
       "          1.6452e+00,  1.7207e+00,  9.1005e-01,  7.4733e-01,  1.4769e+00,\n",
       "          3.4646e-01,  1.8520e+00,  1.9748e+00,  1.2147e-01,  7.3539e-01,\n",
       "          1.6208e+00,  2.6331e-01,  1.3127e+00,  1.6371e+00,  5.2261e-01,\n",
       "          1.1591e+00,  1.6125e+00,  7.9994e-01,  1.6703e+00,  1.8407e+00,\n",
       "         -4.5686e-01,  1.3680e+00,  1.7925e+00,  1.9416e-01,  6.3089e-01,\n",
       "          1.4884e+00, -4.1124e-01,  6.5522e-01,  1.2075e+00,  7.7520e-01,\n",
       "          8.5491e-01,  1.3301e+00, -8.1220e-01,  8.3162e-01,  1.2506e+00,\n",
       "          5.1507e-01,  4.2491e-01,  1.1180e+00, -5.3440e-01,  5.3825e-01,\n",
       "          9.1638e-01,  2.0094e+00,  5.6476e-01,  1.1385e+00, -1.1987e-01,\n",
       "          1.3878e+00,  1.3741e+00,  3.2995e-01,  5.1668e-01,  1.1266e+00,\n",
       "         -5.3253e-01,  1.2678e+00,  1.3687e+00, -2.3429e-01,  3.5044e-01,\n",
       "          1.0991e+00,  1.6230e-01,  5.2321e-01,  1.0091e+00,  4.1880e-01,\n",
       "          6.7596e-01,  1.0260e+00,  9.8803e-01,  1.6481e+00,  1.6846e+00,\n",
       "         -1.8274e-01,  9.0847e-01,  1.5305e+00, -1.9606e-02,  9.8305e-01,\n",
       "          1.4505e+00, -2.4010e-01,  5.5435e-01,  1.2390e+00,  6.4361e-01,\n",
       "          7.1827e-01,  1.2100e+00,  4.4762e-01,  7.3890e-01,  1.1822e+00,\n",
       "          3.2989e-01,  5.1010e-01,  1.0642e+00,  8.0166e-01,  8.7749e-01,\n",
       "          1.2588e+00, -1.3524e-01,  7.1746e-01,  1.1760e+00,  6.4129e-01,\n",
       "          7.4094e-01,  1.0633e+00,  4.7319e-02,  1.4692e+00,  1.4243e+00,\n",
       "          8.0137e-01,  6.4029e-01,  1.2752e+00, -6.0539e-01,  1.3566e+00,\n",
       "          1.4698e+00,  6.2244e-01,  3.1591e-01,  1.1940e+00, -3.7986e-02,\n",
       "          1.3815e+00,  1.4846e+00,  5.4823e-01,  3.2094e-01,  1.1385e+00,\n",
       "         -2.0086e-01,  1.4277e+00,  1.4837e+00,  2.3532e-01,  2.2268e-01,\n",
       "          1.0606e+00, -2.0576e-02,  1.2745e+00,  1.4316e+00,  2.0463e-01,\n",
       "          7.5424e-02,  9.6412e-01, -8.9266e-01,  6.2859e-01,  9.2049e-01,\n",
       "          6.1773e-01, -1.7341e-01,  6.5819e-01,  5.4224e-01,  1.0472e+00,\n",
       "          1.0807e+00, -1.4122e-01, -5.4255e-01,  4.3957e-01,  8.9711e-01,\n",
       "          1.2397e+00,  1.1955e+00,  1.2110e+00,  5.7402e-01,  1.2970e+00,\n",
       "         -2.3112e-01,  1.8624e+00,  1.8246e+00,  4.0904e-01,  4.4317e-01,\n",
       "          1.3302e+00,  4.3999e-01,  1.6714e+00,  1.6425e+00,  2.9811e-01,\n",
       "          5.2750e-01,  1.3445e+00, -1.0734e+00,  1.1518e+00,  1.4700e+00,\n",
       "          1.1954e+00,  3.7703e-01,  1.2925e+00,  1.1145e-01,  1.6722e+00,\n",
       "          1.7378e+00, -1.2376e-01,  4.3091e-01,  1.2490e+00, -4.5019e-01,\n",
       "          1.2431e+00,  1.4031e+00,  1.7460e+00,  1.6262e-01,  1.0463e+00,\n",
       "         -5.0679e-01,  1.4214e+00,  1.3902e+00,  5.9487e-01,  3.5282e-01,\n",
       "          1.1185e+00, -6.6816e-01,  9.8593e-01,  1.2519e+00,  7.5595e-01,\n",
       "          3.4282e-01,  9.7626e-01,  2.8733e-01,  1.2097e+00,  1.3272e+00,\n",
       "         -7.3815e-02, -4.3632e-03,  7.9977e-01,  1.1056e+00,  9.3315e-01,\n",
       "          1.1655e+00, -9.2684e-02,  1.1879e-01,  7.9207e-01,  1.1914e+00,\n",
       "          1.4329e+00,  1.4348e+00,  4.0366e-01,  1.0170e+00,  1.5252e+00,\n",
       "          4.3489e-01,  1.5727e+00,  1.7487e+00,  2.1902e-01,  1.1441e+00,\n",
       "          1.7093e+00,  5.1576e-01,  1.2501e+00,  1.7604e+00,  7.0859e-01,\n",
       "          1.1185e+00,  1.6814e+00,  1.4527e-01,  8.9993e-01,  1.4664e+00,\n",
       "         -3.8001e-01,  3.6856e-01,  1.1124e+00, -7.3583e-02,  3.3693e-01,\n",
       "          9.3232e-01,  1.0171e-01,  3.0456e-01,  8.8115e-01,  3.7308e-02,\n",
       "          3.2726e-01,  9.1640e-01,  7.8115e-01,  1.4650e-01,  8.0141e-01,\n",
       "          1.1855e+00,  1.1386e+00,  1.2144e+00,  1.1722e+00,  1.3426e+00,\n",
       "          1.6261e+00, -2.3249e-03,  9.6366e-01,  1.4333e+00,  1.3391e-01,\n",
       "          9.9880e-01,  1.4849e+00, -3.3337e-01,  4.1420e-01,  1.1698e+00,\n",
       "          8.7934e-01,  4.3115e-01,  1.0433e+00, -5.5263e-01,  4.6055e-01,\n",
       "          8.8712e-01,  7.6854e-01,  6.2903e-01,  9.2986e-01,  2.5857e-01,\n",
       "          8.0319e-01,  1.1570e+00,  1.4146e+00,  1.1507e+00,  1.4672e+00,\n",
       "          8.1804e-01,  1.5553e+00,  1.7884e+00,  1.4065e-01,  1.4341e+00,\n",
       "          1.8623e+00,  6.0540e-01,  1.5211e+00,  2.0126e+00,  2.2884e-01,\n",
       "          1.2317e+00,  1.7801e+00,  8.4374e-02,  1.2575e+00,  1.7178e+00]],\n",
       "       dtype=torch.float64)"
      ]
     },
     "execution_count": 21,
     "metadata": {},
     "output_type": "execute_result"
    }
   ],
   "source": [
    "data_batch"
   ]
  },
  {
   "cell_type": "code",
   "execution_count": 56,
   "id": "61281650-931c-489a-aa0f-ffad02167714",
   "metadata": {},
   "outputs": [
    {
     "ename": "ModuleNotFoundError",
     "evalue": "No module named 'tqdm'",
     "output_type": "error",
     "traceback": [
      "\u001b[1;31m---------------------------------------------------------------------------\u001b[0m",
      "\u001b[1;31mModuleNotFoundError\u001b[0m                       Traceback (most recent call last)",
      "Cell \u001b[1;32mIn[56], line 1\u001b[0m\n\u001b[1;32m----> 1\u001b[0m \u001b[38;5;28;01mfrom\u001b[39;00m \u001b[38;5;21;01mtqdm\u001b[39;00m \u001b[38;5;28;01mimport\u001b[39;00m tqdm\n",
      "\u001b[1;31mModuleNotFoundError\u001b[0m: No module named 'tqdm'"
     ]
    }
   ],
   "source": [
    "from tqdm import tqdm"
   ]
  },
  {
   "cell_type": "code",
   "execution_count": 57,
   "id": "d96a5566-826c-4230-b21e-3608dd03480a",
   "metadata": {},
   "outputs": [
    {
     "name": "stdout",
     "output_type": "stream",
     "text": [
      "Collecting tqdm\n",
      "  Obtaining dependency information for tqdm from https://files.pythonhosted.org/packages/00/e5/f12a80907d0884e6dff9c16d0c0114d81b8cd07dc3ae54c5e962cc83037e/tqdm-4.66.1-py3-none-any.whl.metadata\n",
      "  Using cached tqdm-4.66.1-py3-none-any.whl.metadata (57 kB)\n",
      "Requirement already satisfied: colorama in l:\\!ml_work\\!ml00_hacks_ai_2023_юфо\\.hacks_ai_2023_yfo_env\\lib\\site-packages (from tqdm) (0.4.6)\n",
      "Using cached tqdm-4.66.1-py3-none-any.whl (78 kB)\n",
      "Installing collected packages: tqdm\n",
      "Successfully installed tqdm-4.66.1\n"
     ]
    }
   ],
   "source": [
    "!pip install tqdm"
   ]
  },
  {
   "cell_type": "code",
   "execution_count": null,
   "id": "18eedaa4-845f-4300-b114-98c5b2d2e942",
   "metadata": {},
   "outputs": [],
   "source": []
  }
 ],
 "metadata": {
  "kernelspec": {
   "display_name": ".hacks_ai_2023_yfo_env",
   "language": "python",
   "name": ".hacks_ai_2023_yfo_env"
  },
  "language_info": {
   "codemirror_mode": {
    "name": "ipython",
    "version": 3
   },
   "file_extension": ".py",
   "mimetype": "text/x-python",
   "name": "python",
   "nbconvert_exporter": "python",
   "pygments_lexer": "ipython3",
   "version": "3.10.10"
  }
 },
 "nbformat": 4,
 "nbformat_minor": 5
}
