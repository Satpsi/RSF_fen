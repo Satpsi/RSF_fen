{
 "cells": [
  {
   "cell_type": "markdown",
   "id": "5fb2acbc-5e26-441b-8e98-7de1a40a6fc2",
   "metadata": {},
   "source": [
    "# Кейс ЦБ РФ"
   ]
  },
  {
   "cell_type": "markdown",
   "id": "3326d5b9-6058-426c-a456-fac8627164bc",
   "metadata": {},
   "source": [
    "## Подключение нужных библиотек"
   ]
  },
  {
   "cell_type": "code",
   "execution_count": 58,
   "id": "05ff86b7-cbaf-4441-a760-e76acc06d8c6",
   "metadata": {},
   "outputs": [],
   "source": [
    "import numpy as np\n",
    "import torch\n",
    "from tqdm import tqdm"
   ]
  },
  {
   "cell_type": "markdown",
   "id": "014289e9-b21d-49b9-9a31-c260f116536f",
   "metadata": {},
   "source": [
    "## Создаем Dataset для дальнейшей работы"
   ]
  },
  {
   "cell_type": "code",
   "execution_count": 45,
   "id": "0e78d1f1-7d55-4656-a158-b0865b3c609d",
   "metadata": {},
   "outputs": [],
   "source": [
    "class CbrDataset(torch.utils.data.Dataset):\n",
    "    def __init__(self, inp_file, out_file):\n",
    "        self.x_data = np.load(inp_file)\n",
    "        self.y_data = np.load(out_file)\n",
    "        \n",
    "    def __len__(self):\n",
    "        return len(self.x_data)\n",
    "        \n",
    "    def __getitem__(self, idx):\n",
    "        inputs = torch.from_numpy(self.x_data[idx])\n",
    "        outputs = torch.from_numpy(self.y_data[idx]) \n",
    "        return (torch.flatten(inputs), torch.flatten(outputs))  "
   ]
  },
  {
   "cell_type": "markdown",
   "id": "c2379bc9-4ef0-481d-93da-5d8d7a42304e",
   "metadata": {},
   "source": [
    "## Создаем нужную нейросеть"
   ]
  },
  {
   "cell_type": "code",
   "execution_count": 47,
   "id": "197e216f-eccc-4f32-a738-0a357ecf7b57",
   "metadata": {},
   "outputs": [],
   "source": [
    "class CbrNet(torch.nn.Module):\n",
    "  def __init__(self):\n",
    "    super(CbrNet, self).__init__()\n",
    "    self.hid1 = torch.nn.Linear(600, 300)  \n",
    "    self.hid2 = torch.nn.Linear(300, 100)\n",
    "    self.oupt = torch.nn.Linear(100, 15)\n",
    "\n",
    "    torch.nn.init.xavier_uniform_(self.hid1.weight) \n",
    "    torch.nn.init.zeros_(self.hid1.bias)\n",
    "    torch.nn.init.xavier_uniform_(self.hid2.weight)\n",
    "    torch.nn.init.zeros_(self.hid2.bias)\n",
    "    torch.nn.init.xavier_uniform_(self.oupt.weight)\n",
    "    torch.nn.init.zeros_(self.oupt.bias)\n",
    "\n",
    "  def forward(self, x):\n",
    "    z = torch.tanh(self.hid1(x)) \n",
    "    z = torch.tanh(self.hid2(z))\n",
    "    z = self.oupt(z)  \n",
    "    return z\n"
   ]
  },
  {
   "cell_type": "markdown",
   "id": "cebdff16-f695-46fa-b375-a3b485fbad75",
   "metadata": {},
   "source": [
    "## Обучение модели"
   ]
  },
  {
   "cell_type": "code",
   "execution_count": 59,
   "id": "3a45fd8c-1fcd-4129-9d3a-52c927b96d87",
   "metadata": {},
   "outputs": [],
   "source": [
    "def train(model, ds, bs, lr, me, le):\n",
    "    train_ldr = torch.utils.data.DataLoader(ds, batch_size=bs, shuffle=True)\n",
    "    loss_func = torch.nn.L1Loss()  \n",
    "    optimizer = torch.optim.Adam(model.parameters(), lr=lr)\n",
    "    for epoch in tqdm(range(0, me)): # RSF\n",
    "        epoch_loss = 0.0  \n",
    "        for (b_idx, batch) in enumerate(train_ldr):\n",
    "            X = batch[0]\n",
    "            X = X.to(torch.float32)\n",
    "            X = X.to(device) # RSF\n",
    "            y = batch[1]\n",
    "            y = y.to(torch.float32)\n",
    "            y = y.to(device) # RSF\n",
    "            optimizer.zero_grad()\n",
    "            oupt = model(X)\n",
    "            loss_val = loss_func(oupt, y)  \n",
    "            epoch_loss += loss_val.item()  \n",
    "            loss_val.backward()  \n",
    "            optimizer.step()     \n",
    "\n",
    "        if epoch % le == 0:\n",
    "            print(f\"'эпоха = {epoch: 04d}  |  loss = {epoch_loss:0.4f}\")\n",
    "            torch.save(model, f\"./results/model_{epoch:04d}\")\n",
    "    \n",
    "    torch.save(model, f\"./results/model_final.pt\")\n",
    "        "
   ]
  },
  {
   "cell_type": "code",
   "execution_count": null,
   "id": "74c0b361-d12d-465d-8bec-b9b0ac07c21e",
   "metadata": {},
   "outputs": [],
   "source": [
    "def accuracy(model, ds, pct_close):\n",
    "    n_correct = 0; n_wrong = 0\n",
    "    data_ldr =  torch.utils.data.DataLoader(ds, batch_size=1, shuffle=False)\n",
    "    for (b_ix, batch) in tqdm(enumerate(ds)):\n",
    "        X = batch[0]\n",
    "        X = X.to(torch.float32)\n",
    "        X = X.to(device) # RSF\n",
    "        Y = batch[1]  \n",
    "        Y = Y.to(torch.float32)\n",
    "        Y = Y.to(device) # RSF\n",
    "        with torch.no_grad():\n",
    "            oupt = model(X)  \n",
    "        if torch.abs(oupt[0] - Y[0]) < torch.abs(pct_close * Y[0]) and torch.abs(oupt[1] - Y[1]) < torch.abs(pct_close * Y[1]):\n",
    "            n_correct += 1\n",
    "        else:\n",
    "            n_wrong += 1\n",
    "    return (n_correct * 1.0) / (n_correct + n_wrong)"
   ]
  },
  {
   "cell_type": "markdown",
   "id": "a0e0173f-4307-4248-b7eb-bfe1fb0bf141",
   "metadata": {},
   "source": [
    "## Главная программа"
   ]
  },
  {
   "cell_type": "code",
   "execution_count": 49,
   "id": "a2458708-f4ce-4773-990a-8b597d4e75eb",
   "metadata": {},
   "outputs": [
    {
     "name": "stdout",
     "output_type": "stream",
     "text": [
      "\n",
      "Решение кейса ЦБ России с использованием PyTorch\n",
      "Используем устройство: cuda\n"
     ]
    }
   ],
   "source": [
    "# 0. Начало\n",
    "print(\"\\nРешение кейса ЦБ России с использованием PyTorch\")\n",
    "np.random.seed(42) \n",
    "torch.manual_seed(42) \n",
    "\n",
    "# Проверяем наличие GPU\n",
    "device = torch.device('cuda' if torch.cuda.is_available() else 'cpu')\n",
    "print('Используем устройство:', device)"
   ]
  },
  {
   "cell_type": "code",
   "execution_count": 69,
   "id": "5cc40f62-c935-4f01-bca0-eb93d566299f",
   "metadata": {},
   "outputs": [
    {
     "name": "stdout",
     "output_type": "stream",
     "text": [
      "\n",
      "Загрузка обучающего Dataset\n"
     ]
    }
   ],
   "source": [
    "# 1. Создание объектов Dataset и DataLoader\n",
    "print(\"\\nЗагрузка обучающего Dataset\")\n",
    "train_input_file = f\"./data/y_smp_train.npy\"\n",
    "train_output_file = f\"./data/pars_smp_train.npy\"\n",
    "train_dataset = CbrDataset(train_input_file, train_output_file)\n",
    "trainloader = torch.utils.data.DataLoader(train_dataset, batch_size=16, shuffle=True) # RSF"
   ]
  },
  {
   "cell_type": "code",
   "execution_count": 51,
   "id": "1f6984a9-b4f3-4136-9c7d-9a7bc84d79d0",
   "metadata": {},
   "outputs": [
    {
     "name": "stdout",
     "output_type": "stream",
     "text": [
      "torch.Size([16, 600])\n",
      "torch.Size([16, 15])\n"
     ]
    }
   ],
   "source": [
    "data_batch, labels_batch = next(iter(trainloader))\n",
    "print(data_batch.size())\n",
    "# out: torch.Size([16, 3, 32, 32])\n",
    "print(labels_batch.size())\n",
    "# out: torch.Size([16])\n",
    "\n",
    "#  test_file = \".\\\\Data\\\\boston_test.txt\"\n",
    "#  test_ds = BostonDataset(test_file)"
   ]
  },
  {
   "cell_type": "code",
   "execution_count": 52,
   "id": "3f82cfd8-44d9-4c61-877d-b680a357c50d",
   "metadata": {},
   "outputs": [
    {
     "name": "stdout",
     "output_type": "stream",
     "text": [
      "\n",
      "Создание 600-(300-100)-15 регрессионной нейросети\n"
     ]
    },
    {
     "data": {
      "text/plain": [
       "CbrNet(\n",
       "  (hid1): Linear(in_features=600, out_features=300, bias=True)\n",
       "  (hid2): Linear(in_features=300, out_features=100, bias=True)\n",
       "  (oupt): Linear(in_features=100, out_features=15, bias=True)\n",
       ")"
      ]
     },
     "execution_count": 52,
     "metadata": {},
     "output_type": "execute_result"
    }
   ],
   "source": [
    "# 2. Создание модели\n",
    "print(\"\\nСоздание 600-(300-100)-15 регрессионной нейросети\")\n",
    "net = CbrNet().to(device)\n",
    "net.train()"
   ]
  },
  {
   "cell_type": "code",
   "execution_count": 60,
   "id": "bc465146-57f9-4565-8376-50acb88ae727",
   "metadata": {},
   "outputs": [
    {
     "name": "stdout",
     "output_type": "stream",
     "text": [
      "\n",
      "batch size = 10 функция потерь = L1Loss() оптимизатор = Adam learn rate = 0.005 количество эпох = 50\n",
      "\n",
      "Начало обучения \n"
     ]
    },
    {
     "name": "stderr",
     "output_type": "stream",
     "text": [
      "  0%|                                                                                           | 0/50 [00:00<?, ?it/s]"
     ]
    },
    {
     "name": "stdout",
     "output_type": "stream",
     "text": [
      "epoch =    0  |  loss = 21416.6048\n"
     ]
    },
    {
     "name": "stderr",
     "output_type": "stream",
     "text": [
      " 20%|███████████████▊                                                               | 10/50 [49:51<3:17:44, 296.61s/it]"
     ]
    },
    {
     "name": "stdout",
     "output_type": "stream",
     "text": [
      "epoch =   10  |  loss = 21310.0089\n"
     ]
    },
    {
     "name": "stderr",
     "output_type": "stream",
     "text": [
      " 40%|██████████████████████████████▊                                              | 20/50 [1:40:46<2:30:44, 301.50s/it]"
     ]
    },
    {
     "name": "stdout",
     "output_type": "stream",
     "text": [
      "epoch =   20  |  loss = 21290.5060\n"
     ]
    },
    {
     "name": "stderr",
     "output_type": "stream",
     "text": [
      " 60%|██████████████████████████████████████████████▏                              | 30/50 [2:32:05<1:41:16, 303.81s/it]"
     ]
    },
    {
     "name": "stdout",
     "output_type": "stream",
     "text": [
      "epoch =   30  |  loss = 21260.3964\n"
     ]
    },
    {
     "name": "stderr",
     "output_type": "stream",
     "text": [
      " 80%|███████████████████████████████████████████████████████████████▏               | 40/50 [3:21:28<49:21, 296.18s/it]"
     ]
    },
    {
     "name": "stdout",
     "output_type": "stream",
     "text": [
      "epoch =   40  |  loss = 21136.3213\n"
     ]
    },
    {
     "name": "stderr",
     "output_type": "stream",
     "text": [
      "100%|███████████████████████████████████████████████████████████████████████████████| 50/50 [4:11:07<00:00, 301.36s/it]\n"
     ]
    },
    {
     "name": "stdout",
     "output_type": "stream",
     "text": [
      "Завершение\n"
     ]
    }
   ],
   "source": [
    "# 3. Обучаем модель\n",
    "bs=10 # размер батча\n",
    "lr=0.005 \n",
    "me=50 # Максимальное количество эпох\n",
    "le=10 # Точки выдачи отчета\n",
    "\n",
    "print(f\"\\nbatch size = {bs}\", end = \" \")\n",
    "print(\"функция потерь = L1Loss()\", end = \" \")\n",
    "print(\"оптимизатор = Adam\", end = \" \")\n",
    "print(f\"learn rate = {lr}\", end = \" \")\n",
    "print(f\"количество эпох = {me}\")\n",
    "\n",
    "print(\"\\nНачало обучения \")\n",
    "train(net, train_dataset, bs, lr, me=50, le=10)\n",
    "print(\"Завершение\")"
   ]
  },
  {
   "cell_type": "code",
   "execution_count": null,
   "id": "a010b490-7818-42c0-b753-1f5f413e7207",
   "metadata": {},
   "outputs": [],
   "source": [
    "# Загрузка модели\n",
    "net = torch.load(f\"./results/model_final.pt\")"
   ]
  },
  {
   "cell_type": "code",
   "execution_count": 1,
   "id": "81eb4b78-fab4-4405-adc7-27a3844ec547",
   "metadata": {},
   "outputs": [],
   "source": [
    "# 4. Точность модели\n",
    "#net.eval()\n",
    "#acc_train = accuracy(net, train_dataset, 0.20)\n",
    "#print(f\"\\nТочность обучения (внутри 0.20) = {acc_train:%0.4f}\")\n",
    "#acc_test = accuracy(net, test_dataset, 0.20)\n",
    "#print(f\"Точность на тесте (внутри 0.20) = {acc_test:%0.4f}\")"
   ]
  },
  {
   "cell_type": "code",
   "execution_count": null,
   "id": "104d6572-d46d-48c9-ac35-a663a43e439d",
   "metadata": {},
   "outputs": [],
   "source": [
    "# 5. Использование модели\n",
    "print(\"\\nPredicting normalized (poverty, price) first train\")\n",
    "print(\"Actual (poverty, price) = (0.0914, 0.2160) \")\n",
    "\n",
    "x = np.array([0.000273, 0.000, 0.0707, -1, 0.469, 0.6421, 0.789, 0.049671, 0.02, 0.242, 0.178, 0.39690], dtype=np.float32)\n",
    "x = torch.tensor(x, dtype=torch.float32)\n",
    "\n",
    "with torch.no_grad():\n",
    "    oupt = net(x)\n",
    "print(\"Predicted poverty price = %0.4f %0.4f \" % (oupt[0], oupt[1]))\n",
    "print(\"\\nEnd demo \")"
   ]
  },
  {
   "cell_type": "code",
   "execution_count": 20,
   "id": "5c42bf8c-e135-4475-bd47-9d07ec422ac9",
   "metadata": {},
   "outputs": [
    {
     "name": "stdout",
     "output_type": "stream",
     "text": [
      "torch.Size([1, 600])\n",
      "torch.Size([1, 15])\n"
     ]
    }
   ],
   "source": [
    "#trainloader = torch.utils.data.DataLoader(train_dataset, batch_size=1, shuffle=True) # RSF\n",
    "#data_batch, labels_batch = next(iter(trainloader))\n",
    "#print(data_batch.size())\n",
    "#print(labels_batch.size())"
   ]
  },
  {
   "cell_type": "code",
   "execution_count": 82,
   "id": "18eedaa4-845f-4300-b114-98c5b2d2e942",
   "metadata": {},
   "outputs": [
    {
     "name": "stdout",
     "output_type": "stream",
     "text": [
      "tensor([ 1.7573,  1.5800,  0.5893,  0.3319,  1.4420,  0.1287,  1.1085,  2.0747,\n",
      "         0.4631,  0.5308,  0.5701, -0.0925,  0.0801,  0.0191,  0.0567],\n",
      "       device='cuda:0')\n"
     ]
    }
   ],
   "source": [
    "testfile = np.load(f\"./data/y_smp_test.npy\")\n",
    "#print(testfile.shape)\n",
    "for i in range(testfile.shape[0]):\n",
    "    if i > 0:\n",
    "        break\n",
    "    #print(testfile[i])\n",
    "    X = testfile[i]\n",
    "    inp = torch.from_numpy(X)\n",
    "    inp = inp.to(torch.float32)\n",
    "    inp = torch.flatten(inp)\n",
    "    inp = inp.to(device) \n",
    "    with torch.no_grad():\n",
    "        outp = net(inp)\n",
    "        print(outp)"
   ]
  },
  {
   "cell_type": "code",
   "execution_count": null,
   "id": "f5f5f0c4-918b-4e3d-98b3-ae21aaa5d599",
   "metadata": {},
   "outputs": [],
   "source": [
    "with open('./data/random_submit_new.npy', 'wb') as submit:\n",
    "    np.save(submit, np.array([1, 2]))\n",
    "    np.save(submit, np.array([1, 3]))\n",
    "with open('./data/random_submit_new.npy', 'rb') as submit:\n",
    "    a = np.load(submit)\n",
    "    b = np.load(submit)\n",
    "print(a, b)\n",
    "#for i in range(submit.shape)"
   ]
  },
  {
   "cell_type": "code",
   "execution_count": 83,
   "id": "769d067f-1ad5-4d69-9834-7ec1eff3d4d7",
   "metadata": {},
   "outputs": [
    {
     "ename": "TypeError",
     "evalue": "'_io.BufferedReader' object is not subscriptable",
     "output_type": "error",
     "traceback": [
      "\u001b[1;31m---------------------------------------------------------------------------\u001b[0m",
      "\u001b[1;31mTypeError\u001b[0m                                 Traceback (most recent call last)",
      "Cell \u001b[1;32mIn[83], line 2\u001b[0m\n\u001b[0;32m      1\u001b[0m \u001b[38;5;28;01mwith\u001b[39;00m \u001b[38;5;28mopen\u001b[39m(\u001b[38;5;124m'\u001b[39m\u001b[38;5;124m./data/random_submit.npy\u001b[39m\u001b[38;5;124m'\u001b[39m, \u001b[38;5;124m'\u001b[39m\u001b[38;5;124mrb\u001b[39m\u001b[38;5;124m'\u001b[39m) \u001b[38;5;28;01mas\u001b[39;00m submit:\n\u001b[1;32m----> 2\u001b[0m     \u001b[38;5;28mprint\u001b[39m(\u001b[43msubmit\u001b[49m\u001b[43m[\u001b[49m\u001b[38;5;241;43m0\u001b[39;49m\u001b[43m]\u001b[49m)\n",
      "\u001b[1;31mTypeError\u001b[0m: '_io.BufferedReader' object is not subscriptable"
     ]
    }
   ],
   "source": [
    "with open('./data/random_submit.npy', 'rb') as submit:\n",
    "    print(submit[0])"
   ]
  },
  {
   "cell_type": "code",
   "execution_count": null,
   "id": "72c5c44a-1893-4a1f-aea9-6b4c7a4ea1d1",
   "metadata": {},
   "outputs": [],
   "source": [
    "def repeat_number(outpa, num):\n",
    "    arr = []\n",
    "    for elem in outpa:\n",
    "        arr_t = []\n",
    "        for i in range(num):\n",
    "            arr_t.append(elem)\n",
    "        arr.append(arr_t)\n",
    "    return(arr)\n",
    "\n",
    "testfile = np.load(f\"./data/y_smp_test.npy\")\n",
    "#print(testfile.shape)\n",
    "submit = open('./data/random_submit_new.npy', 'wb')\n",
    "submit_arr = np.empty((100000, 15, 6))\n",
    "for i in range(testfile.shape[0]):\n",
    "    print(f\"{i:05d}\", end=\"\\r\")\n",
    "    #print(testfile[i])\n",
    "    X = testfile[i]\n",
    "    inp = torch.from_numpy(X)\n",
    "    inp = inp.to(torch.float32)\n",
    "    inp = torch.flatten(inp)\n",
    "    inp = inp.to(device) \n",
    "    with torch.no_grad():\n",
    "        outp = net(inp)\n",
    "        outpa = outp.detach().cpu().numpy()\n",
    "        outpa = repeat_number(outpa, 6)\n",
    "        outp = np.array(outpa)\n",
    "        submit_arr[i] = outp\n",
    "print()\n",
    "np.save(submit, submit_arr)\n",
    "submit.close"
   ]
  }
 ],
 "metadata": {
  "kernelspec": {
   "display_name": "Python 3 (ipykernel)",
   "language": "python",
   "name": "python3"
  },
  "language_info": {
   "codemirror_mode": {
    "name": "ipython",
    "version": 3
   },
   "file_extension": ".py",
   "mimetype": "text/x-python",
   "name": "python",
   "nbconvert_exporter": "python",
   "pygments_lexer": "ipython3",
   "version": "3.10.4"
  }
 },
 "nbformat": 4,
 "nbformat_minor": 5
}
